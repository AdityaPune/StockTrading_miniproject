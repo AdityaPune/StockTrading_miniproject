{
 "cells": [
  {
   "cell_type": "code",
   "execution_count": 160,
   "metadata": {},
   "outputs": [],
   "source": [
    "import keras"
   ]
  },
  {
   "cell_type": "code",
   "execution_count": 161,
   "metadata": {
    "collapsed": true
   },
   "outputs": [],
   "source": [
    "from keras.models import Sequential\n",
    "from keras.layers import LSTM, Dense, Dropout\n",
    "import pandas as pd\n",
    "import numpy as np\n",
    "import matplotlib.pyplot as plt\n",
    "from sklearn.preprocessing import StandardScaler"
   ]
  },
  {
   "cell_type": "markdown",
   "metadata": {},
   "source": [
    "## Creating the data"
   ]
  },
  {
   "cell_type": "code",
   "execution_count": 162,
   "metadata": {},
   "outputs": [
    {
     "data": {
      "text/html": [
       "<div>\n",
       "<style>\n",
       "    .dataframe thead tr:only-child th {\n",
       "        text-align: right;\n",
       "    }\n",
       "\n",
       "    .dataframe thead th {\n",
       "        text-align: left;\n",
       "    }\n",
       "\n",
       "    .dataframe tbody tr th {\n",
       "        vertical-align: top;\n",
       "    }\n",
       "</style>\n",
       "<table border=\"1\" class=\"dataframe\">\n",
       "  <thead>\n",
       "    <tr style=\"text-align: right;\">\n",
       "      <th></th>\n",
       "      <th>AAPL</th>\n",
       "      <th>MSI</th>\n",
       "      <th>SBUX</th>\n",
       "    </tr>\n",
       "  </thead>\n",
       "  <tbody>\n",
       "    <tr>\n",
       "      <th>0</th>\n",
       "      <td>67.8542</td>\n",
       "      <td>60.30</td>\n",
       "      <td>28.185</td>\n",
       "    </tr>\n",
       "    <tr>\n",
       "      <th>1</th>\n",
       "      <td>68.5614</td>\n",
       "      <td>60.90</td>\n",
       "      <td>28.070</td>\n",
       "    </tr>\n",
       "    <tr>\n",
       "      <th>2</th>\n",
       "      <td>66.8428</td>\n",
       "      <td>60.83</td>\n",
       "      <td>28.130</td>\n",
       "    </tr>\n",
       "    <tr>\n",
       "      <th>3</th>\n",
       "      <td>66.7156</td>\n",
       "      <td>60.81</td>\n",
       "      <td>27.915</td>\n",
       "    </tr>\n",
       "    <tr>\n",
       "      <th>4</th>\n",
       "      <td>66.6556</td>\n",
       "      <td>61.12</td>\n",
       "      <td>27.775</td>\n",
       "    </tr>\n",
       "  </tbody>\n",
       "</table>\n",
       "</div>"
      ],
      "text/plain": [
       "      AAPL    MSI    SBUX\n",
       "0  67.8542  60.30  28.185\n",
       "1  68.5614  60.90  28.070\n",
       "2  66.8428  60.83  28.130\n",
       "3  66.7156  60.81  27.915\n",
       "4  66.6556  61.12  27.775"
      ]
     },
     "execution_count": 162,
     "metadata": {},
     "output_type": "execute_result"
    }
   ],
   "source": [
    "dataset = pd.read_csv('aapl_msi_sbux.csv')\n",
    "dataset.head()"
   ]
  },
  {
   "cell_type": "code",
   "execution_count": 163,
   "metadata": {},
   "outputs": [],
   "source": [
    "#Getting the data fragments\n",
    "apple = dataset.iloc[:,0].values\n",
    "msi = dataset.iloc[:,1].values\n",
    "starbucks = dataset.iloc[:,2].values"
   ]
  },
  {
   "cell_type": "code",
   "execution_count": 191,
   "metadata": {},
   "outputs": [],
   "source": [
    "#Making the training and testing data\n",
    "a_scaler = StandardScaler()\n",
    "apple = a_scaler.fit_transform(apple.reshape(-1,1))\n",
    "apple_x = apple[:-1,]\n",
    "apple_y = apple[1:]\n",
    "\n",
    "m_scaler = StandardScaler()\n",
    "msi = m_scaler.fit_transform(msi.reshape(-1,1))\n",
    "msi_x = msi[:-1,]\n",
    "msi_y = msi[1:]\n",
    "\n",
    "s_scaler = StandardScaler()\n",
    "starbucks = s_scaler.fit_transform(starbucks.reshape(-1,1))\n",
    "starbucks_x = starbucks[:-1,]\n",
    "starbucks_y = starbucks[1:]"
   ]
  },
  {
   "cell_type": "markdown",
   "metadata": {},
   "source": [
    "## Creating the forecasting model\n",
    "\n",
    "### 1> For apple"
   ]
  },
  {
   "cell_type": "code",
   "execution_count": 165,
   "metadata": {},
   "outputs": [],
   "source": [
    "apple_y = apple_y.reshape(apple_y.shape[0])\n",
    "apple_x = apple_x.reshape(apple_x.shape[0],1,apple_x.shape[1])"
   ]
  },
  {
   "cell_type": "code",
   "execution_count": 166,
   "metadata": {},
   "outputs": [],
   "source": [
    "#Creating the network structure\n",
    "model_apple = Sequential()\n",
    "model_apple.add(LSTM(1024,input_shape=(1,1)))\n",
    "model_apple.add(keras.layers.Dense(1,activation = 'sigmoid'))\n",
    "#Building the model\n",
    "model_apple.compile(optimizer='adam',loss = 'mae')"
   ]
  },
  {
   "cell_type": "code",
   "execution_count": 167,
   "metadata": {},
   "outputs": [],
   "source": [
    "x_train = apple_x[:1000,:,:]\n",
    "y_train = apple_y[:1000]\n",
    "x_test = apple_x[1000:,:,:]\n",
    "y_test = apple_y[1000:]"
   ]
  },
  {
   "cell_type": "code",
   "execution_count": 168,
   "metadata": {
    "scrolled": false
   },
   "outputs": [
    {
     "name": "stdout",
     "output_type": "stream",
     "text": [
      "Epoch 1/15\n",
      "1000/1000 [==============================] - 14s 14ms/step - loss: 0.6837\n",
      "Epoch 2/15\n",
      "1000/1000 [==============================] - 7s 7ms/step - loss: 0.5365\n",
      "Epoch 3/15\n",
      "1000/1000 [==============================] - 8s 8ms/step - loss: 0.5254\n",
      "Epoch 4/15\n",
      "1000/1000 [==============================] - 8s 8ms/step - loss: 0.5248\n",
      "Epoch 5/15\n",
      "1000/1000 [==============================] - 7s 7ms/step - loss: 0.5246\n",
      "Epoch 6/15\n",
      "1000/1000 [==============================] - 8s 8ms/step - loss: 0.5245\n",
      "Epoch 7/15\n",
      "1000/1000 [==============================] - 8s 8ms/step - loss: 0.5241\n",
      "Epoch 8/15\n",
      "1000/1000 [==============================] - 8s 8ms/step - loss: 0.5235\n",
      "Epoch 9/15\n",
      "1000/1000 [==============================] - 7s 7ms/step - loss: 0.5234\n",
      "Epoch 10/15\n",
      "1000/1000 [==============================] - 7s 7ms/step - loss: 0.5231\n",
      "Epoch 11/15\n",
      "1000/1000 [==============================] - 8s 8ms/step - loss: 0.5228\n",
      "Epoch 12/15\n",
      "1000/1000 [==============================] - 8s 8ms/step - loss: 0.5225\n",
      "Epoch 13/15\n",
      "1000/1000 [==============================] - 8s 8ms/step - loss: 0.5220\n",
      "Epoch 14/15\n",
      "1000/1000 [==============================] - 8s 8ms/step - loss: 0.5218\n",
      "Epoch 15/15\n",
      "1000/1000 [==============================] - 8s 8ms/step - loss: 0.5217\n"
     ]
    },
    {
     "data": {
      "text/plain": [
       "<keras.callbacks.History at 0x19652efa278>"
      ]
     },
     "execution_count": 168,
     "metadata": {},
     "output_type": "execute_result"
    }
   ],
   "source": [
    "model_apple.fit(x_train, y_train, batch_size=10, epochs=15)"
   ]
  },
  {
   "cell_type": "code",
   "execution_count": 169,
   "metadata": {},
   "outputs": [
    {
     "data": {
      "image/png": "[encoded data removed]",
      "text/plain": [
       "<Figure size 432x288 with 1 Axes>"
      ]
     },
     "metadata": {},
     "output_type": "display_data"
    }
   ],
   "source": [
    "plt.plot(a_scaler.inverse_transform(y_test[:14]), label = 'Real value')\n",
    "plt.plot(a_scaler.inverse_transform(model_apple.predict(x_test[:14])),label = 'Prediction')\n",
    "plt.legend()\n",
    "plt.show()"
   ]
  },
  {
   "cell_type": "markdown",
   "metadata": {},
   "source": [
    "### 2> MSI stocks"
   ]
  },
  {
   "cell_type": "code",
   "execution_count": 170,
   "metadata": {
    "collapsed": true
   },
   "outputs": [],
   "source": [
    "msi_y = msi_y.reshape(msi_y.shape[0])\n",
    "msi_x = msi_x.reshape(msi_x.shape[0],1,msi_x.shape[1])"
   ]
  },
  {
   "cell_type": "code",
   "execution_count": 171,
   "metadata": {
    "collapsed": true
   },
   "outputs": [],
   "source": [
    "#Creating the network structure\n",
    "model_msi = Sequential()\n",
    "model_msi.add(LSTM(1024,input_shape=(1,1)))\n",
    "model_msi.add(keras.layers.Dense(1,activation = 'sigmoid'))\n",
    "#Building the model\n",
    "model_msi.compile(optimizer='adam',loss = 'mae')"
   ]
  },
  {
   "cell_type": "code",
   "execution_count": 172,
   "metadata": {
    "collapsed": true
   },
   "outputs": [],
   "source": [
    "x_train = msi_x[:1000,:,:]\n",
    "y_train = msi_y[:1000]\n",
    "x_test = msi_x[1000:,:,:]\n",
    "y_test = msi_y[1000:]"
   ]
  },
  {
   "cell_type": "code",
   "execution_count": 174,
   "metadata": {},
   "outputs": [
    {
     "name": "stdout",
     "output_type": "stream",
     "text": [
      "Epoch 1/15\n",
      "1000/1000 [==============================] - 11s 11ms/step - loss: 0.7348\n",
      "Epoch 2/15\n",
      "1000/1000 [==============================] - 7s 7ms/step - loss: 0.5569\n",
      "Epoch 3/15\n",
      "1000/1000 [==============================] - 7s 7ms/step - loss: 0.5450\n",
      "Epoch 4/15\n",
      "1000/1000 [==============================] - 7s 7ms/step - loss: 0.5446\n",
      "Epoch 5/15\n",
      "1000/1000 [==============================] - 7s 7ms/step - loss: 0.5444\n",
      "Epoch 6/15\n",
      "1000/1000 [==============================] - 8s 8ms/step - loss: 0.5442\n",
      "Epoch 7/15\n",
      "1000/1000 [==============================] - 8s 8ms/step - loss: 0.5443\n",
      "Epoch 8/15\n",
      "1000/1000 [==============================] - 8s 8ms/step - loss: 0.5445\n",
      "Epoch 9/15\n",
      "1000/1000 [==============================] - 8s 8ms/step - loss: 0.5442\n",
      "Epoch 10/15\n",
      "1000/1000 [==============================] - 8s 8ms/step - loss: 0.5444\n",
      "Epoch 11/15\n",
      "1000/1000 [==============================] - 8s 8ms/step - loss: 0.5444\n",
      "Epoch 12/15\n",
      "1000/1000 [==============================] - 8s 8ms/step - loss: 0.5443\n",
      "Epoch 13/15\n",
      "1000/1000 [==============================] - 8s 8ms/step - loss: 0.5442\n",
      "Epoch 14/15\n",
      "1000/1000 [==============================] - 7s 7ms/step - loss: 0.5441\n",
      "Epoch 15/15\n",
      "1000/1000 [==============================] - 8s 8ms/step - loss: 0.5442\n"
     ]
    },
    {
     "data": {
      "text/plain": [
       "<keras.callbacks.History at 0x19632b5ce48>"
      ]
     },
     "execution_count": 174,
     "metadata": {},
     "output_type": "execute_result"
    }
   ],
   "source": [
    "model_msi.fit(x_train, y_train, batch_size=10, epochs=15)"
   ]
  },
  {
   "cell_type": "code",
   "execution_count": 178,
   "metadata": {},
   "outputs": [
    {
     "data": {
      "image/png": "[encoded data removed]",
      "text/plain": [
       "<Figure size 432x288 with 1 Axes>"
      ]
     },
     "metadata": {},
     "output_type": "display_data"
    }
   ],
   "source": [
    "plt.plot(m_scaler.inverse_transform(y_test[:14]), label = 'Real value')\n",
    "plt.plot(m_scaler.inverse_transform(model_msi.predict(x_test[:14])),label = 'Prediction')\n",
    "plt.legend()\n",
    "plt.show()"
   ]
  },
  {
   "cell_type": "markdown",
   "metadata": {},
   "source": [
    "### 3> Starbucks Stocks"
   ]
  },
  {
   "cell_type": "code",
   "execution_count": 192,
   "metadata": {
    "collapsed": true
   },
   "outputs": [],
   "source": [
    "starbucks_y = starbucks_y.reshape(starbucks_y.shape[0])\n",
    "starbucks_x = starbucks_x.reshape(starbucks_x.shape[0],1,starbucks_x.shape[1])"
   ]
  },
  {
   "cell_type": "code",
   "execution_count": 195,
   "metadata": {
    "collapsed": true
   },
   "outputs": [],
   "source": [
    "#Creating the network structure\n",
    "model_sbux = Sequential()\n",
    "model_sbux.add(LSTM(1024,input_shape=(1,1)))\n",
    "model_sbux.add(keras.layers.Dense(1,activation = 'sigmoid'))\n",
    "#Building the model\n",
    "model_sbux.compile(optimizer='adam',loss = 'mae')"
   ]
  },
  {
   "cell_type": "code",
   "execution_count": 196,
   "metadata": {
    "collapsed": true
   },
   "outputs": [],
   "source": [
    "x_train = starbucks_x[:1000,:,:]\n",
    "y_train = starbucks_y[:1000]\n",
    "x_test = starbucks_x[1000:,:,:]\n",
    "y_test = starbucks_y[1000:]"
   ]
  },
  {
   "cell_type": "code",
   "execution_count": 197,
   "metadata": {},
   "outputs": [
    {
     "name": "stdout",
     "output_type": "stream",
     "text": [
      "Epoch 1/5\n",
      "1000/1000 [==============================] - 14s 14ms/step - loss: 0.8017\n",
      "Epoch 2/5\n",
      "1000/1000 [==============================] - 8s 8ms/step - loss: 0.6320\n",
      "Epoch 3/5\n",
      "1000/1000 [==============================] - 8s 8ms/step - loss: 0.6223\n",
      "Epoch 4/5\n",
      "1000/1000 [==============================] - 8s 8ms/step - loss: 0.6218\n",
      "Epoch 5/5\n",
      "1000/1000 [==============================] - 7s 7ms/step - loss: 0.6220\n"
     ]
    },
    {
     "data": {
      "text/plain": [
       "<keras.callbacks.History at 0x196728e41d0>"
      ]
     },
     "execution_count": 197,
     "metadata": {},
     "output_type": "execute_result"
    }
   ],
   "source": [
    "model_sbux.fit(x_train, y_train, batch_size=10, epochs=5)"
   ]
  },
  {
   "cell_type": "code",
   "execution_count": 198,
   "metadata": {},
   "outputs": [
    {
     "data": {
      "image/png": "[encoded data removed]",
      "text/plain": [
       "<Figure size 432x288 with 1 Axes>"
      ]
     },
     "metadata": {},
     "output_type": "display_data"
    }
   ],
   "source": [
    "plt.plot(s_scaler.inverse_transform(y_test[:14]), label = 'Real value')\n",
    "plt.plot(s_scaler.inverse_transform(model_sbux.predict(x_test[:14])),label = 'Prediction')\n",
    "plt.legend()\n",
    "plt.show()"
   ]
  },
  {
   "cell_type": "code",
   "execution_count": null,
   "metadata": {
    "collapsed": true
   },
   "outputs": [],
   "source": []
  }
 ],
 "metadata": {
  "kernelspec": {
   "display_name": "Python 3",
   "language": "python",
   "name": "python3"
  },
  "language_info": {
   "codemirror_mode": {
    "name": "ipython",
    "version": 3
   },
   "file_extension": ".py",
   "mimetype": "text/x-python",
   "name": "python",
   "nbconvert_exporter": "python",
   "pygments_lexer": "ipython3",
   "version": "3.6.3"
  }
 },
 "nbformat": 4,
 "nbformat_minor": 2
}
