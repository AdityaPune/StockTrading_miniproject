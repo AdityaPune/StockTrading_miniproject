{
 "cells": [
  {
   "cell_type": "code",
   "execution_count": 1,
   "metadata": {},
   "outputs": [
    {
     "name": "stderr",
     "output_type": "stream",
     "text": [
      "Using TensorFlow backend.\n"
     ]
    }
   ],
   "source": [
    "import keras"
   ]
  },
  {
   "cell_type": "code",
   "execution_count": 13,
   "metadata": {},
   "outputs": [],
   "source": [
    "from keras.models import Sequential\n",
    "from keras.layers import LSTM, Dense, Dropout\n",
    "import pandas as pd\n",
    "import numpy as np\n",
    "import matplotlib.pyplot as plt\n",
    "from sklearn.preprocessing import StandardScaler\n",
    "import os"
   ]
  },
  {
   "cell_type": "markdown",
   "metadata": {},
   "source": [
    "## Creating the data"
   ]
  },
  {
   "cell_type": "code",
   "execution_count": 112,
   "metadata": {},
   "outputs": [
    {
     "data": {
      "text/html": [
       "<div>\n",
       "<style>\n",
       "    .dataframe thead tr:only-child th {\n",
       "        text-align: right;\n",
       "    }\n",
       "\n",
       "    .dataframe thead th {\n",
       "        text-align: left;\n",
       "    }\n",
       "\n",
       "    .dataframe tbody tr th {\n",
       "        vertical-align: top;\n",
       "    }\n",
       "</style>\n",
       "<table border=\"1\" class=\"dataframe\">\n",
       "  <thead>\n",
       "    <tr style=\"text-align: right;\">\n",
       "      <th></th>\n",
       "      <th>AAPL</th>\n",
       "      <th>MSI</th>\n",
       "      <th>SBUX</th>\n",
       "    </tr>\n",
       "  </thead>\n",
       "  <tbody>\n",
       "    <tr>\n",
       "      <th>0</th>\n",
       "      <td>67.8542</td>\n",
       "      <td>60.30</td>\n",
       "      <td>28.185</td>\n",
       "    </tr>\n",
       "    <tr>\n",
       "      <th>1</th>\n",
       "      <td>68.5614</td>\n",
       "      <td>60.90</td>\n",
       "      <td>28.070</td>\n",
       "    </tr>\n",
       "    <tr>\n",
       "      <th>2</th>\n",
       "      <td>66.8428</td>\n",
       "      <td>60.83</td>\n",
       "      <td>28.130</td>\n",
       "    </tr>\n",
       "    <tr>\n",
       "      <th>3</th>\n",
       "      <td>66.7156</td>\n",
       "      <td>60.81</td>\n",
       "      <td>27.915</td>\n",
       "    </tr>\n",
       "    <tr>\n",
       "      <th>4</th>\n",
       "      <td>66.6556</td>\n",
       "      <td>61.12</td>\n",
       "      <td>27.775</td>\n",
       "    </tr>\n",
       "  </tbody>\n",
       "</table>\n",
       "</div>"
      ],
      "text/plain": [
       "      AAPL    MSI    SBUX\n",
       "0  67.8542  60.30  28.185\n",
       "1  68.5614  60.90  28.070\n",
       "2  66.8428  60.83  28.130\n",
       "3  66.7156  60.81  27.915\n",
       "4  66.6556  61.12  27.775"
      ]
     },
     "execution_count": 112,
     "metadata": {},
     "output_type": "execute_result"
    }
   ],
   "source": [
    "dataset = pd.read_csv('aapl_msi_sbux.csv')\n",
    "dataset.head()"
   ]
  },
  {
   "cell_type": "code",
   "execution_count": 113,
   "metadata": {
    "collapsed": true
   },
   "outputs": [],
   "source": [
    "#Getting the data fragments\n",
    "apple = dataset.iloc[:,0].values\n",
    "msi = dataset.iloc[:,1].values\n",
    "starbucks = dataset.iloc[:,2].values"
   ]
  },
  {
   "cell_type": "code",
   "execution_count": 114,
   "metadata": {
    "collapsed": true
   },
   "outputs": [],
   "source": [
    "#Making the training and testing data\n",
    "a_scaler = StandardScaler()\n",
    "apple = a_scaler.fit_transform(apple.reshape(-1,1))\n",
    "apple_x = apple[:-1,]\n",
    "apple_y = apple[1:]\n",
    "\n",
    "m_scaler = StandardScaler()\n",
    "msi = m_scaler.fit_transform(msi.reshape(-1,1))\n",
    "msi_x = msi[:-1,]\n",
    "msi_y = msi[1:]\n",
    "\n",
    "s_scaler = StandardScaler()\n",
    "starbucks = s_scaler.fit_transform(starbucks.reshape(-1,1))\n",
    "starbucks_x = starbucks[:-1,]\n",
    "starbucks_y = starbucks[1:]"
   ]
  },
  {
   "cell_type": "markdown",
   "metadata": {},
   "source": [
    "## Creating the forecasting model\n",
    "\n",
    "### 1> For apple"
   ]
  },
  {
   "cell_type": "code",
   "execution_count": 122,
   "metadata": {
    "collapsed": true
   },
   "outputs": [],
   "source": [
    "apple_y = apple_y.reshape(apple_y.shape[0])\n",
    "apple_x = apple_x.reshape(apple_x.shape[0],1,apple_x.shape[1])"
   ]
  },
  {
   "cell_type": "code",
   "execution_count": 123,
   "metadata": {
    "collapsed": true
   },
   "outputs": [],
   "source": [
    "#Creating the network structure\n",
    "model_apple = Sequential()\n",
    "model_apple.add(LSTM(1024,input_shape=(1,1)))\n",
    "model_apple.add(keras.layers.Dense(1,activation = 'sigmoid'))\n",
    "#Building the model\n",
    "model_apple.compile(optimizer='adam',loss = 'mae')"
   ]
  },
  {
   "cell_type": "code",
   "execution_count": 124,
   "metadata": {
    "collapsed": true
   },
   "outputs": [],
   "source": [
    "x_train = apple_x[:1000,:,:]\n",
    "y_train = apple_y[:1000]\n",
    "x_test = apple_x[1000:,:,:]\n",
    "y_test = apple_y[1000:]"
   ]
  },
  {
   "cell_type": "code",
   "execution_count": 125,
   "metadata": {},
   "outputs": [
    {
     "data": {
      "text/plain": [
       "258"
      ]
     },
     "execution_count": 125,
     "metadata": {},
     "output_type": "execute_result"
    }
   ],
   "source": [
    "len(y_test)"
   ]
  },
  {
   "cell_type": "code",
   "execution_count": 126,
   "metadata": {
    "scrolled": false
   },
   "outputs": [
    {
     "name": "stdout",
     "output_type": "stream",
     "text": [
      "Epoch 1/5\n",
      "1000/1000 [==============================] - 11s 11ms/step - loss: 0.6877\n",
      "Epoch 2/5\n",
      "1000/1000 [==============================] - 7s 7ms/step - loss: 0.5339\n",
      "Epoch 3/5\n",
      "1000/1000 [==============================] - 7s 7ms/step - loss: 0.5253\n",
      "Epoch 4/5\n",
      "1000/1000 [==============================] - 7s 7ms/step - loss: 0.5250\n",
      "Epoch 5/5\n",
      "1000/1000 [==============================] - 7s 7ms/step - loss: 0.5244\n"
     ]
    },
    {
     "data": {
      "text/plain": [
       "<keras.callbacks.History at 0x1d93bb0d3c8>"
      ]
     },
     "execution_count": 126,
     "metadata": {},
     "output_type": "execute_result"
    }
   ],
   "source": [
    "model_apple.fit(x_train, y_train, batch_size=10, epochs=5)"
   ]
  },
  {
   "cell_type": "code",
   "execution_count": 136,
   "metadata": {},
   "outputs": [
    {
     "data": {
      "image/png": "[encoded data removed]",
      "text/plain": [
       "<Figure size 432x288 with 1 Axes>"
      ]
     },
     "metadata": {},
     "output_type": "display_data"
    }
   ],
   "source": [
    "plt.plot(a_scaler.inverse_transform(y_test[:14]), label = 'Real value')\n",
    "plt.plot(a_scaler.inverse_transform(model_apple.predict(x_test[:14])),label = 'Prediction')\n",
    "plt.legend()\n",
    "plt.show()"
   ]
  },
  {
   "cell_type": "code",
   "execution_count": 135,
   "metadata": {},
   "outputs": [],
   "source": [
    "##Saving the model\n",
    "if not os.path.exists(\"Apple\"):\n",
    "    os.mkdir(\"Apple\")\n",
    "with open('Apple/apple_model.json','w') as f:\n",
    "    f.write(model_apple.to_json())\n",
    "\n",
    "model_apple.save_weights('Apple/apple_w.h5')"
   ]
  },
  {
   "cell_type": "markdown",
   "metadata": {},
   "source": [
    "### 2> MSI stocks"
   ]
  },
  {
   "cell_type": "code",
   "execution_count": 15,
   "metadata": {
    "collapsed": true
   },
   "outputs": [],
   "source": [
    "msi_y = msi_y.reshape(msi_y.shape[0])\n",
    "msi_x = msi_x.reshape(msi_x.shape[0],1,msi_x.shape[1])"
   ]
  },
  {
   "cell_type": "code",
   "execution_count": 16,
   "metadata": {
    "collapsed": true
   },
   "outputs": [],
   "source": [
    "#Creating the network structure\n",
    "model_msi = Sequential()\n",
    "model_msi.add(LSTM(1024,input_shape=(1,1)))\n",
    "model_msi.add(keras.layers.Dense(1,activation = 'sigmoid'))\n",
    "#Building the model\n",
    "model_msi.compile(optimizer='adam',loss = 'mae')"
   ]
  },
  {
   "cell_type": "code",
   "execution_count": 18,
   "metadata": {
    "collapsed": true
   },
   "outputs": [],
   "source": [
    "x_train = msi_x[:1000,:,:]\n",
    "y_train = msi_y[:1000]\n",
    "x_test = msi_x[1000:,:,:]\n",
    "y_test = msi_y[1000:]"
   ]
  },
  {
   "cell_type": "code",
   "execution_count": 20,
   "metadata": {},
   "outputs": [
    {
     "name": "stdout",
     "output_type": "stream",
     "text": [
      "Epoch 1/5\n",
      "1000/1000 [==============================] - 7s 7ms/step - loss: 0.5445\n",
      "Epoch 2/5\n",
      "1000/1000 [==============================] - 7s 7ms/step - loss: 0.5445\n",
      "Epoch 3/5\n",
      "1000/1000 [==============================] - 7s 7ms/step - loss: 0.5443\n",
      "Epoch 4/5\n",
      "1000/1000 [==============================] - 7s 7ms/step - loss: 0.5442\n",
      "Epoch 5/5\n",
      "1000/1000 [==============================] - 7s 7ms/step - loss: 0.5443\n"
     ]
    },
    {
     "data": {
      "text/plain": [
       "<keras.callbacks.History at 0x1d91d271e48>"
      ]
     },
     "execution_count": 20,
     "metadata": {},
     "output_type": "execute_result"
    }
   ],
   "source": [
    "model_msi.fit(x_train, y_train, batch_size=10, epochs=5)"
   ]
  },
  {
   "cell_type": "code",
   "execution_count": 21,
   "metadata": {
    "scrolled": true
   },
   "outputs": [
    {
     "data": {
      "image/png": "[encoded data removed]",
      "text/plain": [
       "<Figure size 432x288 with 1 Axes>"
      ]
     },
     "metadata": {},
     "output_type": "display_data"
    }
   ],
   "source": [
    "plt.plot(m_scaler.inverse_transform(y_test[:14]), label = 'Real value')\n",
    "plt.plot(m_scaler.inverse_transform(model_msi.predict(x_test[:14])),label = 'Prediction')\n",
    "plt.legend()\n",
    "plt.show()"
   ]
  },
  {
   "cell_type": "code",
   "execution_count": 32,
   "metadata": {
    "collapsed": true
   },
   "outputs": [],
   "source": [
    "##Saving the model\n",
    "if not os.path.exists(\"MSI\"):\n",
    "    os.mkdir(\"MSI\")\n",
    "with open('MSI/msi_model.json','w') as f:\n",
    "    f.write(model_msi.to_json())\n",
    "\n",
    "model_msi.save_weights('MSI/msi_w.h5')"
   ]
  },
  {
   "cell_type": "markdown",
   "metadata": {},
   "source": [
    "### 3> Starbucks Stocks"
   ]
  },
  {
   "cell_type": "code",
   "execution_count": 23,
   "metadata": {
    "collapsed": true
   },
   "outputs": [],
   "source": [
    "starbucks_y = starbucks_y.reshape(starbucks_y.shape[0])\n",
    "starbucks_x = starbucks_x.reshape(starbucks_x.shape[0],1,starbucks_x.shape[1])"
   ]
  },
  {
   "cell_type": "code",
   "execution_count": 24,
   "metadata": {
    "collapsed": true
   },
   "outputs": [],
   "source": [
    "#Creating the network structure\n",
    "model_sbux = Sequential()\n",
    "model_sbux.add(LSTM(1024,input_shape=(1,1)))\n",
    "model_sbux.add(keras.layers.Dense(1,activation = 'sigmoid'))\n",
    "#Building the model\n",
    "model_sbux.compile(optimizer='adam',loss = 'mae')"
   ]
  },
  {
   "cell_type": "code",
   "execution_count": 61,
   "metadata": {
    "collapsed": true
   },
   "outputs": [],
   "source": [
    "x_train = starbucks_x[:1000,:,:]\n",
    "y_train = starbucks_y[:1000]\n",
    "x_test = starbucks_x[1000:,:,:]\n",
    "y_test = starbucks_y[1000:]"
   ]
  },
  {
   "cell_type": "code",
   "execution_count": 26,
   "metadata": {},
   "outputs": [
    {
     "name": "stdout",
     "output_type": "stream",
     "text": [
      "Epoch 1/5\n",
      "1000/1000 [==============================] - 10s 10ms/step - loss: 0.8096\n",
      "Epoch 2/5\n",
      "1000/1000 [==============================] - 7s 7ms/step - loss: 0.6339\n",
      "Epoch 3/5\n",
      "1000/1000 [==============================] - 7s 7ms/step - loss: 0.6230\n",
      "Epoch 4/5\n",
      "1000/1000 [==============================] - 7s 7ms/step - loss: 0.6225\n",
      "Epoch 5/5\n",
      "1000/1000 [==============================] - 7s 7ms/step - loss: 0.6220\n"
     ]
    },
    {
     "data": {
      "text/plain": [
       "<keras.callbacks.History at 0x1d9292079e8>"
      ]
     },
     "execution_count": 26,
     "metadata": {},
     "output_type": "execute_result"
    }
   ],
   "source": [
    "model_sbux.fit(x_train, y_train, batch_size=10, epochs=5)"
   ]
  },
  {
   "cell_type": "code",
   "execution_count": 64,
   "metadata": {},
   "outputs": [
    {
     "data": {
      "image/png": "[encoded data removed]",
      "text/plain": [
       "<Figure size 432x288 with 1 Axes>"
      ]
     },
     "metadata": {},
     "output_type": "display_data"
    }
   ],
   "source": [
    "plt.plot(s_scaler.inverse_transform(y_test[:14]), label = 'Real value')\n",
    "plt.plot(s_scaler.inverse_transform(model_sbux.predict(x_test[:14])),label = 'Prediction')\n",
    "plt.legend()\n",
    "plt.show()"
   ]
  },
  {
   "cell_type": "code",
   "execution_count": 31,
   "metadata": {},
   "outputs": [],
   "source": [
    "##Saving the model\n",
    "if not os.path.exists(\"Starbucks\"):\n",
    "    os.mkdir(\"Starbucks\")\n",
    "with open('Starbucks/sbux_model.json','w') as f:\n",
    "    f.write(model_sbux.to_json())\n",
    "\n",
    "model_sbux.save_weights('Starbucks/sbux_w.h5')"
   ]
  },
  {
   "cell_type": "markdown",
   "metadata": {},
   "source": [
    "## Forecast"
   ]
  },
  {
   "cell_type": "code",
   "execution_count": 97,
   "metadata": {
    "collapsed": true
   },
   "outputs": [],
   "source": [
    "x_test = apple_x[1000:,:,:]\n",
    "y_test = apple_y[1000:]"
   ]
  },
  {
   "cell_type": "code",
   "execution_count": 84,
   "metadata": {
    "collapsed": true
   },
   "outputs": [],
   "source": [
    "seed = 10\n",
    "input_data = x_test[:10]\n",
    "forecast= []\n",
    "for i in range(14):\n",
    "    prediction = model_apple.predict(input_data)\n",
    "    forecast.append(prediction[-1][0])\n",
    "    input_data = np.append(input_data,prediction[-1].reshape((1, 1, 1)),axis=0)[1:,:,:]"
   ]
  }
 ],
 "metadata": {
  "kernelspec": {
   "display_name": "Python 3",
   "language": "python",
   "name": "python3"
  },
  "language_info": {
   "codemirror_mode": {
    "name": "ipython",
    "version": 3
   },
   "file_extension": ".py",
   "mimetype": "text/x-python",
   "name": "python",
   "nbconvert_exporter": "python",
   "pygments_lexer": "ipython3",
   "version": "3.6.3"
  }
 },
 "nbformat": 4,
 "nbformat_minor": 2
}
