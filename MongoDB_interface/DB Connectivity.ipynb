{
 "cells": [
  {
   "cell_type": "markdown",
   "metadata": {},
   "source": [
    "### Assignment 3\n",
    "## MongoDB connectivity \n",
    "Vishwa Mohan Singh<br>\n",
    "PC-14<br>\n",
    "TY-CSE BDA 1A<br>"
   ]
  },
  {
   "cell_type": "code",
   "execution_count": 1,
   "metadata": {},
   "outputs": [
    {
     "ename": "ModuleNotFoundError",
     "evalue": "No module named 'pandas'",
     "output_type": "error",
     "traceback": [
      "\u001b[0;31m---------------------------------------------------------------------------\u001b[0m",
      "\u001b[0;31mModuleNotFoundError\u001b[0m                       Traceback (most recent call last)",
      "\u001b[0;32m<ipython-input-1-f480af8e764e>\u001b[0m in \u001b[0;36m<module>\u001b[0;34m\u001b[0m\n\u001b[1;32m      1\u001b[0m \u001b[0;32mfrom\u001b[0m \u001b[0mpymongo\u001b[0m \u001b[0;32mimport\u001b[0m \u001b[0mMongoClient\u001b[0m\u001b[0;34m\u001b[0m\u001b[0;34m\u001b[0m\u001b[0m\n\u001b[0;32m----> 2\u001b[0;31m \u001b[0;32mimport\u001b[0m \u001b[0mpandas\u001b[0m \u001b[0;32mas\u001b[0m \u001b[0mpd\u001b[0m\u001b[0;34m\u001b[0m\u001b[0;34m\u001b[0m\u001b[0m\n\u001b[0m",
      "\u001b[0;31mModuleNotFoundError\u001b[0m: No module named 'pandas'"
     ]
    }
   ],
   "source": [
    "from pymongo import MongoClient"
   ]
  },
  {
   "cell_type": "code",
   "execution_count": 30,
   "metadata": {},
   "outputs": [],
   "source": [
    "#Client object\n",
    "client = MongoClient()\n",
    "\n",
    "#Mongo runs on port number 27017\n",
    "client = MongoClient('localhost',27017)\n"
   ]
  },
  {
   "cell_type": "code",
   "execution_count": 31,
   "metadata": {},
   "outputs": [],
   "source": [
    "#Making a database\n",
    "db = client.Microsoft"
   ]
  },
  {
   "cell_type": "code",
   "execution_count": 32,
   "metadata": {},
   "outputs": [],
   "source": [
    "#Creating a collection\n",
    "products = db.products"
   ]
  },
  {
   "cell_type": "code",
   "execution_count": 33,
   "metadata": {},
   "outputs": [
    {
     "name": "stdout",
     "output_type": "stream",
     "text": [
      "Ports: [ObjectId('5ea413a2dc26f342681e45cc'), ObjectId('5ea413a2dc26f342681e45cd'), ObjectId('5ea413a2dc26f342681e45ce'), ObjectId('5ea413a2dc26f342681e45cf'), ObjectId('5ea413a2dc26f342681e45d0')]\n"
     ]
    }
   ],
   "source": [
    "#Creating documents\n",
    "windows = {\n",
    "        'Name':'Windows 10',\n",
    "        'Type': 'System Software (OS)',\n",
    "        'Cost':8500\n",
    "         }\n",
    "office = {\n",
    "        'Name':'MS Office',\n",
    "        'Type': 'Application Software',\n",
    "        'Cost':5200\n",
    "         }\n",
    "outlook = {\n",
    "        'Name':'Outlook',\n",
    "        'Type': 'Mail Service',\n",
    "        'Cost':\"Free\"\n",
    "         }\n",
    "onedrive = {\n",
    "        'Name':'One Drive',\n",
    "        'Type': 'Cloud',\n",
    "        'Cost':2500\n",
    "         }\n",
    "azure = {\n",
    "        'Name':'Azure',\n",
    "        'Type': 'Cloud',\n",
    "        'Cost':9000\n",
    "         }\n",
    "#Adding the documents to the collections\n",
    "new_results = products.insert_many([windows,office,outlook,onedrive,azure])\n",
    "print(\"Ports: {}\".format(new_results.inserted_ids))"
   ]
  },
  {
   "cell_type": "code",
   "execution_count": 34,
   "metadata": {},
   "outputs": [
    {
     "name": "stdout",
     "output_type": "stream",
     "text": [
      "{'_id': ObjectId('5ea413a2dc26f342681e45cc'), 'Name': 'Windows 10', 'Type': 'System Software (OS)', 'Cost': 8500}\n",
      "{'_id': ObjectId('5ea413a2dc26f342681e45cd'), 'Name': 'MS Office', 'Type': 'Application Software', 'Cost': 5200}\n",
      "{'_id': ObjectId('5ea413a2dc26f342681e45ce'), 'Name': 'Outlook', 'Type': 'Mail Service', 'Cost': 'Free'}\n",
      "{'_id': ObjectId('5ea413a2dc26f342681e45cf'), 'Name': 'One Drive', 'Type': 'Cloud', 'Cost': 2500}\n",
      "{'_id': ObjectId('5ea413a2dc26f342681e45d0'), 'Name': 'Azure', 'Type': 'Cloud', 'Cost': 9000}\n"
     ]
    }
   ],
   "source": [
    "#Displaying the collections\n",
    "for x in products.find():\n",
    "    print(x)"
   ]
  },
  {
   "cell_type": "code",
   "execution_count": 35,
   "metadata": {},
   "outputs": [
    {
     "name": "stderr",
     "output_type": "stream",
     "text": [
      "/home/vishwa/.local/lib/python3.6/site-packages/ipykernel_launcher.py:2: DeprecationWarning: update is deprecated. Use replace_one, update_one or update_many instead.\n",
      "  \n"
     ]
    },
    {
     "data": {
      "text/plain": [
       "{'n': 1, 'nModified': 1, 'ok': 1.0, 'updatedExisting': True}"
      ]
     },
     "execution_count": 35,
     "metadata": {},
     "output_type": "execute_result"
    }
   ],
   "source": [
    "#Updating an entry\n",
    "products.update({'Name':'Windows 10'},{'Name':'Windows 10','Type': 'System Software (OS)','Cost':7500})"
   ]
  },
  {
   "cell_type": "code",
   "execution_count": 36,
   "metadata": {},
   "outputs": [
    {
     "name": "stdout",
     "output_type": "stream",
     "text": [
      "Update Cost: {'_id': ObjectId('5ea413a2dc26f342681e45cc'), 'Name': 'Windows 10', 'Type': 'System Software (OS)', 'Cost': 7500}\n"
     ]
    }
   ],
   "source": [
    "print(\"Update Cost: {}\".format(products.find_one({'Name':'Windows 10'})))"
   ]
  },
  {
   "cell_type": "code",
   "execution_count": 37,
   "metadata": {},
   "outputs": [
    {
     "name": "stdout",
     "output_type": "stream",
     "text": [
      "{'_id': ObjectId('5ea413a2dc26f342681e45cc'), 'Name': 'Windows 10', 'Type': 'System Software (OS)', 'Cost': 7500}\n",
      "{'_id': ObjectId('5ea413a2dc26f342681e45cd'), 'Name': 'MS Office', 'Type': 'Application Software', 'Cost': 5200}\n",
      "{'_id': ObjectId('5ea413a2dc26f342681e45cf'), 'Name': 'One Drive', 'Type': 'Cloud', 'Cost': 2500}\n",
      "{'_id': ObjectId('5ea413a2dc26f342681e45d0'), 'Name': 'Azure', 'Type': 'Cloud', 'Cost': 9000}\n"
     ]
    },
    {
     "name": "stderr",
     "output_type": "stream",
     "text": [
      "/home/vishwa/.local/lib/python3.6/site-packages/ipykernel_launcher.py:2: DeprecationWarning: remove is deprecated. Use delete_one or delete_many instead.\n",
      "  \n"
     ]
    }
   ],
   "source": [
    "#Removing an element\n",
    "products.remove({\"Type\":\"Mail Service\"})\n",
    "#Displaying the collections\n",
    "for x in products.find():\n",
    "    print(x)"
   ]
  },
  {
   "cell_type": "code",
   "execution_count": 38,
   "metadata": {},
   "outputs": [],
   "source": [
    "#Deleting the collection\n",
    "products.drop()"
   ]
  },
  {
   "cell_type": "code",
   "execution_count": 39,
   "metadata": {},
   "outputs": [
    {
     "name": "stderr",
     "output_type": "stream",
     "text": [
      "/home/vishwa/.local/lib/python3.6/site-packages/ipykernel_launcher.py:2: DeprecationWarning: collection_names is deprecated. Use list_collection_names instead.\n",
      "  \n"
     ]
    },
    {
     "data": {
      "text/plain": [
       "[]"
      ]
     },
     "execution_count": 39,
     "metadata": {},
     "output_type": "execute_result"
    }
   ],
   "source": [
    "#Checking the collections \n",
    "db.collection_names()"
   ]
  }
 ],
 "metadata": {
  "kernelspec": {
   "display_name": "Python 3",
   "language": "python",
   "name": "python3"
  },
  "language_info": {
   "codemirror_mode": {
    "name": "ipython",
    "version": 3
   },
   "file_extension": ".py",
   "mimetype": "text/x-python",
   "name": "python",
   "nbconvert_exporter": "python",
   "pygments_lexer": "ipython3",
   "version": "3.6.9"
  }
 },
 "nbformat": 4,
 "nbformat_minor": 4
}
