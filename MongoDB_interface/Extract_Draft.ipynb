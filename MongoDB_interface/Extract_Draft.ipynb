{
 "cells": [
  {
   "cell_type": "code",
   "execution_count": 17,
   "metadata": {},
   "outputs": [],
   "source": [
    "#Importing the libraries\n",
    "from pymongo import MongoClient\n",
    "import pandas as pd"
   ]
  },
  {
   "cell_type": "code",
   "execution_count": 18,
   "metadata": {},
   "outputs": [],
   "source": [
    "#Client object\n",
    "client = MongoClient()\n",
    "#Mongo runs on port number 27017\n",
    "client = MongoClient('localhost',27017)"
   ]
  },
  {
   "cell_type": "code",
   "execution_count": 19,
   "metadata": {},
   "outputs": [],
   "source": [
    "#Making a database\n",
    "db = client.Apple\n",
    "#Creating a collection\n",
    "stock_prices = db.stock_prices\n",
    "#Getting the stock values\n",
    "prices_apple = []\n",
    "for x in stock_prices.find({'stock_type': 'COMMON_STOCK'}):\n",
    "    prices_apple.append(x['stock_price']/72.3)\n",
    "    \n",
    "prices_apple = pd.DataFrame(prices_apple,columns=[\"AAPL\"])"
   ]
  },
  {
   "cell_type": "code",
   "execution_count": 20,
   "metadata": {},
   "outputs": [],
   "source": [
    "#Making a database\n",
    "db = client.MSI\n",
    "#Creating a collection\n",
    "stock_prices = db.stock_prices\n",
    "#Getting the stock values\n",
    "prices_msi = []\n",
    "for x in stock_prices.find({'stock_type': 'COMMON_STOCK'}):\n",
    "    prices_msi.append(x['stock_price']/72.3)\n",
    "    \n",
    "prices_msi = pd.DataFrame(prices_msi,columns=[\"MSI\"])"
   ]
  },
  {
   "cell_type": "code",
   "execution_count": 21,
   "metadata": {},
   "outputs": [],
   "source": [
    "#Making a database\n",
    "db = client.Starbucks\n",
    "#Creating a collection\n",
    "stock_prices = db.stock_prices\n",
    "#Getting the stock values\n",
    "prices_sbux = []\n",
    "for x in stock_prices.find({'stock_type': 'COMMON_STOCK'}):\n",
    "    prices_sbux.append(x['stock_price']/72.3)\n",
    "    \n",
    "prices_sbux = pd.DataFrame(prices_sbux,columns=[\"SBUX\"])"
   ]
  },
  {
   "cell_type": "code",
   "execution_count": 22,
   "metadata": {},
   "outputs": [],
   "source": [
    "stock_prices = pd.concat([prices_apple,prices_msi,prices_sbux],axis=1)"
   ]
  },
  {
   "cell_type": "code",
   "execution_count": 23,
   "metadata": {},
   "outputs": [],
   "source": [
    "#Saving the dataframe\n",
    "stock_prices.to_csv(\"aapl_msi_sbux.csv\",index=False)"
   ]
  }
 ],
 "metadata": {
  "kernelspec": {
   "display_name": "Python 3",
   "language": "python",
   "name": "python3"
  },
  "language_info": {
   "codemirror_mode": {
    "name": "ipython",
    "version": 3
   },
   "file_extension": ".py",
   "mimetype": "text/x-python",
   "name": "python",
   "nbconvert_exporter": "python",
   "pygments_lexer": "ipython3",
   "version": "3.6.9"
  }
 },
 "nbformat": 4,
 "nbformat_minor": 4
}
